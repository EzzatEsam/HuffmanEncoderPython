{
 "cells": [
  {
   "cell_type": "markdown",
   "metadata": {},
   "source": [
    "## CIE 425 A1\n",
    "# Huffman codes in python \n",
    "### Ezzat Eisawy 201901195\n",
    "This an implementation for binary huffman codes using a tree and priority queue"
   ]
  },
  {
   "cell_type": "markdown",
   "metadata": {},
   "source": [
    "## Part 1"
   ]
  },
  {
   "cell_type": "markdown",
   "metadata": {},
   "source": [
    "#### I will need to use python built in priorty queue class and log2 for my calculations"
   ]
  },
  {
   "cell_type": "code",
   "execution_count": 27,
   "metadata": {},
   "outputs": [],
   "source": [
    "from queue import PriorityQueue\n",
    "from math import log2"
   ]
  },
  {
   "cell_type": "markdown",
   "metadata": {},
   "source": [
    "### A class representation of the node that may carry the symbol"
   ]
  },
  {
   "cell_type": "code",
   "execution_count": 28,
   "metadata": {},
   "outputs": [],
   "source": [
    "class node :\n",
    "    \"\"\" A class we will use to represent a symbol node in the tree \"\"\"\n",
    "    left  = None\n",
    "    right = None\n",
    "    freq = None\n",
    "    symbol = None\n",
    "\n",
    "    def __init__(self ,freq, symbol = None, left = None , right = None ) -> None:\n",
    "        self.left = left\n",
    "        self.right = right\n",
    "        self.symbol = symbol\n",
    "        self.freq = freq\n",
    "    \n",
    "    def __lt__(self, nxt):\n",
    "        \"\"\" Ovveriding the \"Less than\" class method so that the nodes can be compared by frequency and can be used easily in pq \"\"\"\n",
    "        return self.freq < nxt.freq\n",
    "         "
   ]
  },
  {
   "cell_type": "markdown",
   "metadata": {},
   "source": [
    "### creating a function for the huffman coding, the function takes a dictionary of symbols and their freqs/probs and returns a dictionary of symbols and their code as string"
   ]
  },
  {
   "cell_type": "markdown",
   "metadata": {},
   "source": [
    "* At first the functions uses the frequency table to be represented as nodes and be put inside  a pq\n",
    "* The idea of the function that it gets the lowest two nodes , makes them children of a parent node with the sum of their freqs/probs  and repeats till the tree is complete and no nodes left\n",
    "* After the tree is completed it will be traversed using recursion (Here it's similar to dfs)\n",
    "* The right child of the parent node is the lesser in freq and will be given symbol '0'"
   ]
  },
  {
   "cell_type": "code",
   "execution_count": 29,
   "metadata": {},
   "outputs": [],
   "source": [
    "def huffman_code(freqs : dict) -> dict :\n",
    "    \"\"\" Function the takes a dict of frequencies and returns  a dict of corrosponding coding \"\"\"\n",
    "    result_dict = freqs.copy()\n",
    "    q = PriorityQueue()\n",
    "    for symbol , freq in freqs.items() :\n",
    "        q.put(node(symbol=symbol , freq= freq))\n",
    "    node_right = None\n",
    "    \n",
    "    while  q.qsize() > 1 :    # q has at least 2 nodes left\n",
    "        node_right = q.get()\n",
    "        node_left = q.get()\n",
    "        parent = node(freq= node_right.freq + node_left.freq , symbol= None , left= node_left , right= node_right )   \n",
    "        q.put(parent)\n",
    "        node_right = parent\n",
    "    \n",
    "\n",
    "    # traverse the tree to the coding , left --> 1 , right --> 0 , we will use recursion\n",
    "    def traverse_node(nd :node ,init_code :str = '') :\n",
    "        if nd.left :\n",
    "            traverse_node(nd.left ,init_code+ '1')\n",
    "        if nd.right :\n",
    "            traverse_node(nd.right ,init_code+ '0')\n",
    "        if not ( nd.left or nd.right) :  # node for symbol\n",
    "            result_dict[nd.symbol] = init_code\n",
    "\n",
    "\n",
    "    traverse_node(node_right)\n",
    "    return result_dict        "
   ]
  },
  {
   "cell_type": "markdown",
   "metadata": {},
   "source": [
    "#### Defining the dictionary of letters and their freqs"
   ]
  },
  {
   "cell_type": "code",
   "execution_count": 30,
   "metadata": {},
   "outputs": [],
   "source": [
    "letterFrequency = {\n",
    "    'E' : 12.0,\n",
    "    'T' : 9.10,\n",
    "    'A' : 8.12,\n",
    "    'O' : 7.68,\n",
    "    'I' : 7.31,\n",
    "    'N' : 6.95,\n",
    "    'S' : 6.28,\n",
    "    'R' : 6.02,\n",
    "    'H' : 5.92,\n",
    "    'D' : 4.32,\n",
    "    'L' : 3.98,\n",
    "    'U' : 2.88,\n",
    "    'C' : 2.71,\n",
    "    'M' : 2.61,\n",
    "    'F' : 2.30,\n",
    "    'Y' : 2.11,\n",
    "    'W' : 2.09,\n",
    "    'G' : 2.03,\n",
    "    'P' : 1.82,\n",
    "    'B' : 1.49,\n",
    "    'V' : 1.11,\n",
    "    'K' : 0.69,\n",
    "    'X' : 0.17,\n",
    "    'Q' : 0.11,\n",
    "    'J' : 0.10,\n",
    "    'Z' : 0.07 \n",
    "}"
   ]
  },
  {
   "cell_type": "markdown",
   "metadata": {},
   "source": [
    "#### getting the result code table from the function I defined earlier"
   ]
  },
  {
   "cell_type": "code",
   "execution_count": 31,
   "metadata": {},
   "outputs": [
    {
     "name": "stdout",
     "output_type": "stream",
     "text": [
      "('E', '011')\n",
      "('T', '000')\n",
      "('A', '1110')\n",
      "('O', '1101')\n",
      "('I', '1100')\n",
      "('N', '1010')\n",
      "('S', '1001')\n",
      "('R', '1000')\n",
      "('H', '0101')\n",
      "('D', '11111')\n",
      "('L', '10111')\n",
      "('U', '01001')\n",
      "('C', '01000')\n",
      "('M', '00111')\n",
      "('F', '00110')\n",
      "('Y', '00100')\n",
      "('W', '111101')\n",
      "('G', '111100')\n",
      "('P', '101101')\n",
      "('B', '101100')\n",
      "('V', '001010')\n",
      "('K', '0010111')\n",
      "('X', '001011011')\n",
      "('Q', '001011010')\n",
      "('J', '001011001')\n",
      "('Z', '001011000')\n"
     ]
    }
   ],
   "source": [
    "code_table = huffman_code(letterFrequency)\n",
    "for i in code_table.items() :\n",
    "    print(i)"
   ]
  },
  {
   "cell_type": "markdown",
   "metadata": {},
   "source": [
    "#### Comparing the results optained from the function I wrote to the results optained using a python library for huffman coding (dahuffman)  https://github.com/soxofaan/dahuffman\n",
    "Results are similar"
   ]
  },
  {
   "cell_type": "code",
   "execution_count": 32,
   "metadata": {},
   "outputs": [
    {
     "name": "stdout",
     "output_type": "stream",
     "text": [
      "Requirement already satisfied: dahuffman in c:\\users\\ezzat-pc\\appdata\\local\\programs\\python\\python310\\lib\\site-packages (0.4.1)Note: you may need to restart the kernel to use updated packages.\n",
      "Bits Code      Value Symbol\n",
      "   3 000           0 'T'\n",
      "   5 00100         4 'Y'\n",
      "   6 001010       10 'V'\n",
      "   9 001011000    88 'Z'\n",
      "   9 001011001    89 'J'\n",
      "   9 001011010    90 'Q'\n",
      "   9 001011011    91 'X'\n",
      "   7 0010111      23 'K'\n",
      "   5 00110         6 'F'\n",
      "   5 00111         7 'M'\n",
      "   5 01000         8 'C'\n",
      "   5 01001         9 'U'\n",
      "   4 0101          5 'H'\n",
      "   3 011           3 'E'\n",
      "   4 1000          8 'R'\n",
      "   4 1001          9 'S'\n",
      "   4 1010         10 'N'\n",
      "   6 101100       44 'B'\n",
      "   6 101101       45 'P'\n",
      "   5 10111        23 'L'\n",
      "   4 1100         12 'I'\n",
      "   4 1101         13 'O'\n",
      "   4 1110         14 'A'\n",
      "   6 111100       60 'G'\n",
      "   6 111101       61 'W'\n",
      "   5 11111        31 'D'\n",
      "\n"
     ]
    }
   ],
   "source": [
    "%pip install dahuffman\n",
    "from dahuffman import HuffmanCodec\n",
    "# I need need to make a letter of my table a symbol for end of file and pass it to the function or else it will make extra symbol for it and put it in the table\n",
    "letters_codec = HuffmanCodec.from_frequencies(letterFrequency ,eof= 'Z')  \n",
    "letters_codec.print_code_table()"
   ]
  },
  {
   "cell_type": "markdown",
   "metadata": {},
   "source": [
    "#### Calculating the Entropy and avg code length\n",
    "values of the frequency are devided by 100 to get the prob"
   ]
  },
  {
   "cell_type": "code",
   "execution_count": 33,
   "metadata": {},
   "outputs": [
    {
     "name": "stdout",
     "output_type": "stream",
     "text": [
      "English entropy is 4.180788775300481\n",
      "Average code length is  4.210900000000001\n",
      "Efficiency =  99.28492187656985 %\n"
     ]
    }
   ],
   "source": [
    "english_entropy = sum([-x/100*log2(x/100) for x in letterFrequency.values()])\n",
    "code_avg_length = sum([x/100*len(y) for x , y in zip(letterFrequency.values() , code_table.values())])\n",
    "\n",
    "print('English entropy is' , english_entropy)\n",
    "print('Average code length is ' , code_avg_length)\n",
    "print('Efficiency = ' ,english_entropy/code_avg_length *100 ,'%' )"
   ]
  },
  {
   "cell_type": "markdown",
   "metadata": {},
   "source": [
    "## Part 2 "
   ]
  },
  {
   "cell_type": "markdown",
   "metadata": {},
   "source": [
    "#### A simple function to encode the string using the code table"
   ]
  },
  {
   "cell_type": "code",
   "execution_count": 34,
   "metadata": {},
   "outputs": [],
   "source": [
    "def encode_text(text : str , code_table : dict) :\n",
    "    \"\"\" returns a string corresponding the input text with each character mapped to a value in the code table   \"\"\"\n",
    "    res = ''\n",
    "    for s in text :\n",
    "        if s  in code_table.keys() :\n",
    "            res += str(code_table[s])\n",
    "    return res"
   ]
  },
  {
   "cell_type": "markdown",
   "metadata": {},
   "source": [
    "#### loading the file and calculating the length using the english language letter frequency\n",
    "total length is 1990"
   ]
  },
  {
   "cell_type": "code",
   "execution_count": 35,
   "metadata": {},
   "outputs": [
    {
     "name": "stdout",
     "output_type": "stream",
     "text": [
      "total length with english freqs : 1990\n"
     ]
    }
   ],
   "source": [
    "f = open(\"Test1.txt\", \"r\")\n",
    "data = f.read()\n",
    "symbol_code_table = huffman_code(letterFrequency)\n",
    "encoded_data_english_freqs = encode_text(data , symbol_code_table)\n",
    "print('total length with english freqs :',len(encoded_data_english_freqs))"
   ]
  },
  {
   "cell_type": "markdown",
   "metadata": {},
   "source": [
    "## Part 3"
   ]
  },
  {
   "cell_type": "markdown",
   "metadata": {},
   "source": [
    "#### A function to calculate the probs of letters in a given string"
   ]
  },
  {
   "cell_type": "code",
   "execution_count": 36,
   "metadata": {},
   "outputs": [],
   "source": [
    "def calculate_probs(text : str) :\n",
    "    \"\"\" returns a dictionary of characters in the input text and their probabilities \"\"\"\n",
    "    data_set = set(text)\n",
    "    res_dict = dict()\n",
    "    for i in data_set :\n",
    "        res_dict[str(i)] = 0\n",
    "    \n",
    "    for i in text :\n",
    "        res_dict[str(i)] +=1\n",
    "    \n",
    "    total = len(text)\n",
    "    for key,val in res_dict.items():\n",
    "        res_dict[key] = val/total\n",
    "    \n",
    "    return res_dict\n",
    "\n"
   ]
  },
  {
   "cell_type": "markdown",
   "metadata": {},
   "source": [
    "#### Calculating the total length with the code table generated by the self optained probs "
   ]
  },
  {
   "cell_type": "code",
   "execution_count": 37,
   "metadata": {},
   "outputs": [
    {
     "name": "stdout",
     "output_type": "stream",
     "text": [
      "total length with file freqs : 1966\n"
     ]
    }
   ],
   "source": [
    "calculated_probs = calculate_probs(data)\n",
    "calculated_probs_code_table = huffman_code(calculated_probs)\n",
    "encoded_data_calculated_probs = encode_text(data , calculated_probs_code_table)\n",
    "print('total length with file freqs :',len(encoded_data_calculated_probs))\n"
   ]
  },
  {
   "cell_type": "markdown",
   "metadata": {},
   "source": [
    "## Part 4"
   ]
  },
  {
   "cell_type": "code",
   "execution_count": 38,
   "metadata": {},
   "outputs": [
    {
     "name": "stdout",
     "output_type": "stream",
     "text": [
      "total length with english freqs : 1990\n",
      "total length with file freqs : 1966\n"
     ]
    },
    {
     "data": {
      "text/plain": [
       "<BarContainer object of 2 artists>"
      ]
     },
     "execution_count": 38,
     "metadata": {},
     "output_type": "execute_result"
    },
    {
     "data": {
      "image/png": "[encoded data removed]",
      "text/plain": [
       "<Figure size 640x480 with 1 Axes>"
      ]
     },
     "metadata": {},
     "output_type": "display_data"
    }
   ],
   "source": [
    "print('total length with english freqs :',len(encoded_data_english_freqs))\n",
    "print('total length with file freqs :',len(encoded_data_calculated_probs))\n",
    "import matplotlib.pyplot as plt\n",
    "plt.bar(['total length with english freqs' , 'total length with file freqs'] , [len(encoded_data_english_freqs) , len(encoded_data_calculated_probs)])"
   ]
  }
 ],
 "metadata": {
  "kernelspec": {
   "display_name": "Python 3.10.6 64-bit",
   "language": "python",
   "name": "python3"
  },
  "language_info": {
   "codemirror_mode": {
    "name": "ipython",
    "version": 3
   },
   "file_extension": ".py",
   "mimetype": "text/x-python",
   "name": "python",
   "nbconvert_exporter": "python",
   "pygments_lexer": "ipython3",
   "version": "3.10.6"
  },
  "orig_nbformat": 4,
  "vscode": {
   "interpreter": {
    "hash": "eb3950c22230250bad59248a683fce0977cce31bb3dbc1288e532b2bb67adef7"
   }
  }
 },
 "nbformat": 4,
 "nbformat_minor": 2
}
